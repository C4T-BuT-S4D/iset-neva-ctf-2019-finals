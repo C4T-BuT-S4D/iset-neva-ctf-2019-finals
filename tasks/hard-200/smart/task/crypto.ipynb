{
 "cells": [
  {
   "cell_type": "code",
   "execution_count": 1,
   "metadata": {},
   "outputs": [],
   "source": [
    "p = 0xaa770866774ff26543d1e3aedf24e6764d8bbe55f469f6feb3c132ed5bb945d4c2bd91f929440609"
   ]
  },
  {
   "cell_type": "code",
   "execution_count": 2,
   "metadata": {},
   "outputs": [],
   "source": [
    "a = 0x03159621b42f4b91805265fd75bd8f5614fd4d5acf12fd4eccc764974f35ef0bb76fc1fd629ec21d\n",
    "b = 0x6dba0c0bbf9d87526cc10e3d643cc84ff318bcbd472fd7b4b22a292336651d1326d8cd248045f338"
   ]
  },
  {
   "cell_type": "code",
   "execution_count": 3,
   "metadata": {},
   "outputs": [],
   "source": [
    "E = EllipticCurve(GF(p), [a, b])"
   ]
  },
  {
   "cell_type": "code",
   "execution_count": 4,
   "metadata": {},
   "outputs": [
    {
     "data": {
      "text/plain": [
       "True"
      ]
     },
     "execution_count": 4,
     "metadata": {},
     "output_type": "execute_result"
    }
   ],
   "source": [
    "E.order() == p"
   ]
  },
  {
   "cell_type": "code",
   "execution_count": 5,
   "metadata": {},
   "outputs": [],
   "source": [
    "xP = 0x3128e60923b6982a8cf8ef322fa883afc8313528aa75b0d87553ed1adaa6dbcb46292b01990fee47\n",
    "yP = 0x1d8e221203f293734480fdd312dade5757c43589b48307ccff692c24da0719b397052501016d9579\n",
    "P = E.point([xP, yP])"
   ]
  },
  {
   "cell_type": "code",
   "execution_count": 6,
   "metadata": {},
   "outputs": [],
   "source": [
    "xQ = 0x269aac21825f0d44f41b5515d2d5e95a642d63fe9fc57142ee5b9dee67c0a4584f7008b5544e35ba\n",
    "yQ = 0xa1e00ad78ae7c90de9e5327fe0238bd89801e9dee27add2ac1f1d1889b3ba14c86fcd2d72cd93656\n",
    "Q = E.point([xQ, yQ])"
   ]
  },
  {
   "cell_type": "markdown",
   "metadata": {},
   "source": [
    "$$\n",
    "flag \\in F_p \\\\\n",
    "Q = flag \\cdot P\n",
    "$$"
   ]
  }
 ],
 "metadata": {
  "kernelspec": {
   "display_name": "SageMath 8.3",
   "language": "",
   "name": "sagemath"
  },
  "language_info": {
   "codemirror_mode": {
    "name": "ipython",
    "version": 2
   },
   "file_extension": ".py",
   "mimetype": "text/x-python",
   "name": "python",
   "nbconvert_exporter": "python",
   "pygments_lexer": "ipython2",
   "version": "2.7.15"
  }
 },
 "nbformat": 4,
 "nbformat_minor": 4
}
